{
 "cells": [
  {
   "cell_type": "code",
   "id": "97df21c5",
   "metadata": {
    "ExecuteTime": {
     "end_time": "2024-10-21T07:21:57.068662Z",
     "start_time": "2024-10-21T07:21:57.052992Z"
    }
   },
   "source": [
    "# !pip install xgboost==2.0.3\n",
    "# Deduction_percent_others_binary\n",
    "import numpy as np\n",
    "import pandas as pd\n",
    "import io"
   ],
   "outputs": [],
   "execution_count": 1
  },
  {
   "cell_type": "code",
   "execution_count": 5,
   "id": "ff569c77",
   "metadata": {},
   "outputs": [
    {
     "name": "stderr",
     "output_type": "stream",
     "text": [
      "C:\\Users\\eprescription\\AppData\\Local\\Temp\\2\\ipykernel_12004\\2113074097.py:1: DtypeWarning: Columns (37) have mixed types. Specify dtype option on import or set low_memory=False.\n",
      "  df_1 = pd.read_csv('C:\\\\Users\\\\eprescription\\\\Deduction_percent_1402.csv',sep=',')\n"
     ]
    }
   ],
   "source": [
    "df_1 = pd.read_csv('C:\\\\Users\\\\eprescription\\\\Deduction_percent_1402.csv',sep=',')\n",
    "df_2 = pd.read_csv('C:\\\\Users\\\\eprescription\\\\Deduction_percent_1403.csv',sep=',')"
   ]
  },
  {
   "cell_type": "code",
   "execution_count": 6,
   "id": "42b6b92d",
   "metadata": {},
   "outputs": [],
   "source": [
    "df = pd.concat([df_1,df_2])"
   ]
  },
  {
   "cell_type": "code",
   "execution_count": 7,
   "id": "2474233d",
   "metadata": {},
   "outputs": [
    {
     "name": "stdout",
     "output_type": "stream",
     "text": [
      "(917436, 39)\n",
      "(801680, 38)\n",
      "(115756, 39)\n",
      "917436\n"
     ]
    }
   ],
   "source": [
    "print(df.shape)\n",
    "print(df_1.shape)\n",
    "print(df_2.shape)\n",
    "print(df_1.shape[0]+df_2.shape[0])"
   ]
  },
  {
   "cell_type": "code",
   "execution_count": 8,
   "id": "3071f676",
   "metadata": {},
   "outputs": [
    {
     "name": "stdout",
     "output_type": "stream",
     "text": [
      "1    917436\n",
      "dtype: int64\n",
      "(917436, 39)\n",
      "(801680, 38)\n",
      "(115756, 39)\n"
     ]
    }
   ],
   "source": [
    "print(df.groupby('CLAIM_ID').size().value_counts())\n",
    "print(df.shape)\n",
    "print(df_1.shape)\n",
    "print(df_2.shape)"
   ]
  },
  {
   "cell_type": "code",
   "execution_count": 9,
   "id": "01431b3b",
   "metadata": {},
   "outputs": [
    {
     "name": "stdout",
     "output_type": "stream",
     "text": [
      "Index(['YEAR', 'CLAIM_ID', 'ID', 'khadamat_moshavere', 'pezeshk_jarah',\n",
      "       'komak_jarah', 'daroo_otagh_amal', 'lavazem_amal', 'sonograghi',\n",
      "       'radiogeraghi', 'navarnegari', 'azmayeshat', 'asibshenasi', 'visit',\n",
      "       'bihoshi', 'othagh_amal', 'hoteling', 'parastari', 'sayer',\n",
      "       'HCP_TYPE_NAME', 'HCP_TYPE_ID', 'CLAIM_NUMBER', 'EFFECTIVE_DATE_TARRIF',\n",
      "       'EXTRA_FIRST_INSURANCE_AMOUNT', 'EXTRA_PREF_CURRENCY_AMOUNT',\n",
      "       'EXTRA_FIRST_INSURANCE_AMOUNT_PERCENT', 'IS_FULL_TIME_PROFESSIONAL',\n",
      "       'IS_FULL_TIME_ANESTHESIA', 'SERVICE_ITEM_NAME', 'SERVICE_ITEM_CODE',\n",
      "       'GLOBAL_NAME', 'GLOBAL_NATIONAL_CODE', 'GENDER_TYPE', 'INSURED_AGE',\n",
      "       'ACCREDITATION_LEVEL_NAME', 'ACCREDITATION_LEVEL_ID',\n",
      "       'DEDUCTION_AMOUNT_PERCENT', 'PREF_AMOUNT_PERCENT'],\n",
      "      dtype='object')\n",
      "Index(['   ', 'YEAR', 'CLAIM_ID', 'ID', 'khadamat_moshavere', 'pezeshk_jarah',\n",
      "       'komak_jarah', 'daroo_otagh_amal', 'lavazem_amal', 'sonograghi',\n",
      "       'radiogeraghi', 'navarnegari', 'azmayeshat', 'asibshenasi', 'visit',\n",
      "       'bihoshi', 'othagh_amal', 'hoteling', 'parastari', 'sayer',\n",
      "       'HCP_TYPE_NAME', 'HCP_TYPE_ID', 'CLAIM_NUMBER', 'EFFECTIVE_DATE_TARRIF',\n",
      "       'EXTRA_FIRST_INSURANCE_AMOUNT', 'EXTRA_PREF_CURRENCY_AMOUNT',\n",
      "       'EXTRA_FIRST_INSURANCE_AMOUNT_PERCENT', 'IS_FULL_TIME_PROFESSIONAL',\n",
      "       'IS_FULL_TIME_ANESTHESIA', 'SERVICE_ITEM_NAME', 'SERVICE_ITEM_CODE',\n",
      "       'GLOBAL_NAME', 'GLOBAL_NATIONAL_CODE', 'GENDER_TYPE', 'INSURED_AGE',\n",
      "       'ACCREDITATION_LEVEL_NAME', 'ACCREDITATION_LEVEL_ID',\n",
      "       'DEDUCTION_AMOUNT_PERCENT', 'PREF_AMOUNT_PERCENT'],\n",
      "      dtype='object')\n",
      "Index(['YEAR', 'CLAIM_ID', 'ID', 'khadamat_moshavere', 'pezeshk_jarah',\n",
      "       'komak_jarah', 'daroo_otagh_amal', 'lavazem_amal', 'sonograghi',\n",
      "       'radiogeraghi', 'navarnegari', 'azmayeshat', 'asibshenasi', 'visit',\n",
      "       'bihoshi', 'othagh_amal', 'hoteling', 'parastari', 'sayer',\n",
      "       'HCP_TYPE_NAME', 'HCP_TYPE_ID', 'CLAIM_NUMBER', 'EFFECTIVE_DATE_TARRIF',\n",
      "       'EXTRA_FIRST_INSURANCE_AMOUNT', 'EXTRA_PREF_CURRENCY_AMOUNT',\n",
      "       'EXTRA_FIRST_INSURANCE_AMOUNT_PERCENT', 'IS_FULL_TIME_PROFESSIONAL',\n",
      "       'IS_FULL_TIME_ANESTHESIA', 'SERVICE_ITEM_NAME', 'SERVICE_ITEM_CODE',\n",
      "       'GLOBAL_NAME', 'GLOBAL_NATIONAL_CODE', 'GENDER_TYPE', 'INSURED_AGE',\n",
      "       'ACCREDITATION_LEVEL_NAME', 'ACCREDITATION_LEVEL_ID',\n",
      "       'DEDUCTION_AMOUNT_PERCENT', 'PREF_AMOUNT_PERCENT', '   '],\n",
      "      dtype='object')\n"
     ]
    }
   ],
   "source": [
    "print(df_1.columns)\n",
    "print(df_2.columns)\n",
    "print(df.columns)"
   ]
  },
  {
   "cell_type": "code",
   "execution_count": null,
   "id": "cb258f11",
   "metadata": {
    "pycharm": {
     "is_executing": true
    }
   },
   "outputs": [],
   "source": [
    "df"
   ]
  },
  {
   "cell_type": "code",
   "execution_count": 11,
   "id": "316ca3be",
   "metadata": {},
   "outputs": [
    {
     "name": "stdout",
     "output_type": "stream",
     "text": [
      "1    917436\n",
      "dtype: int64\n",
      "917436    1\n",
      "dtype: int64\n"
     ]
    }
   ],
   "source": [
    "print(df.groupby('CLAIM_ID').size().value_counts())\n",
    "print(df.groupby('HCP_TYPE_ID').size().value_counts())"
   ]
  },
  {
   "cell_type": "code",
   "execution_count": 12,
   "id": "6fd15ca9",
   "metadata": {},
   "outputs": [],
   "source": [
    "df.reset_index(drop=True,inplace=True)"
   ]
  },
  {
   "cell_type": "code",
   "execution_count": 14,
   "id": "3cfbc550",
   "metadata": {},
   "outputs": [],
   "source": [
    "df['original_index'] = df.index"
   ]
  },
  {
   "cell_type": "code",
   "execution_count": 16,
   "id": "4a138586",
   "metadata": {},
   "outputs": [],
   "source": [
    "dff = df.copy()"
   ]
  },
  {
   "cell_type": "code",
   "execution_count": 17,
   "id": "6fa4979b",
   "metadata": {},
   "outputs": [],
   "source": [
    "df.drop(columns=['YEAR', 'CLAIM_ID', 'ID','HCP_TYPE_NAME','HCP_TYPE_NAME', 'HCP_TYPE_ID', 'CLAIM_NUMBER', 'EFFECTIVE_DATE_TARRIF','EXTRA_PREF_CURRENCY_AMOUNT','SERVICE_ITEM_NAME','GLOBAL_NAME','ACCREDITATION_LEVEL_NAME','PREF_AMOUNT_PERCENT', '   '],axis=1,inplace=True)"
   ]
  },
  {
   "cell_type": "code",
   "execution_count": 18,
   "id": "b33b31a5",
   "metadata": {},
   "outputs": [],
   "source": [
    "import seaborn as sns\n",
    "import matplotlib.pyplot as plt\n",
    "import scipy.stats as stats"
   ]
  },
  {
   "cell_type": "code",
   "execution_count": 19,
   "id": "df0673af",
   "metadata": {},
   "outputs": [
    {
     "data": {
      "text/html": [
       "<div>\n",
       "<style scoped>\n",
       "    .dataframe tbody tr th:only-of-type {\n",
       "        vertical-align: middle;\n",
       "    }\n",
       "\n",
       "    .dataframe tbody tr th {\n",
       "        vertical-align: top;\n",
       "    }\n",
       "\n",
       "    .dataframe thead th {\n",
       "        text-align: right;\n",
       "    }\n",
       "</style>\n",
       "<table border=\"1\" class=\"dataframe\">\n",
       "  <thead>\n",
       "    <tr style=\"text-align: right;\">\n",
       "      <th></th>\n",
       "      <th>khadamat_moshavere</th>\n",
       "      <th>pezeshk_jarah</th>\n",
       "      <th>komak_jarah</th>\n",
       "      <th>daroo_otagh_amal</th>\n",
       "      <th>lavazem_amal</th>\n",
       "      <th>sonograghi</th>\n",
       "      <th>radiogeraghi</th>\n",
       "      <th>navarnegari</th>\n",
       "      <th>azmayeshat</th>\n",
       "      <th>asibshenasi</th>\n",
       "      <th>...</th>\n",
       "      <th>sayer</th>\n",
       "      <th>EXTRA_FIRST_INSURANCE_AMOUNT_PERCENT</th>\n",
       "      <th>IS_FULL_TIME_PROFESSIONAL</th>\n",
       "      <th>IS_FULL_TIME_ANESTHESIA</th>\n",
       "      <th>SERVICE_ITEM_CODE</th>\n",
       "      <th>GLOBAL_NATIONAL_CODE</th>\n",
       "      <th>INSURED_AGE</th>\n",
       "      <th>ACCREDITATION_LEVEL_ID</th>\n",
       "      <th>DEDUCTION_AMOUNT_PERCENT</th>\n",
       "      <th>original_index</th>\n",
       "    </tr>\n",
       "  </thead>\n",
       "  <tbody>\n",
       "    <tr>\n",
       "      <th>count</th>\n",
       "      <td>917436.000000</td>\n",
       "      <td>917436.000000</td>\n",
       "      <td>917436.000000</td>\n",
       "      <td>917436.000000</td>\n",
       "      <td>917436.000000</td>\n",
       "      <td>917436.000000</td>\n",
       "      <td>917436.000000</td>\n",
       "      <td>917436.000000</td>\n",
       "      <td>917436.000000</td>\n",
       "      <td>917436.000000</td>\n",
       "      <td>...</td>\n",
       "      <td>917436.000000</td>\n",
       "      <td>663903.000000</td>\n",
       "      <td>913612.000000</td>\n",
       "      <td>672740.000000</td>\n",
       "      <td>9.174360e+05</td>\n",
       "      <td>917436.000000</td>\n",
       "      <td>917436.000000</td>\n",
       "      <td>917436.000000</td>\n",
       "      <td>917436.000000</td>\n",
       "      <td>917436.000000</td>\n",
       "    </tr>\n",
       "    <tr>\n",
       "      <th>mean</th>\n",
       "      <td>0.298250</td>\n",
       "      <td>30.645158</td>\n",
       "      <td>0.298969</td>\n",
       "      <td>1.503234</td>\n",
       "      <td>5.156288</td>\n",
       "      <td>0.038964</td>\n",
       "      <td>0.170510</td>\n",
       "      <td>0.086651</td>\n",
       "      <td>0.439010</td>\n",
       "      <td>0.128618</td>\n",
       "      <td>...</td>\n",
       "      <td>0.747239</td>\n",
       "      <td>0.098154</td>\n",
       "      <td>0.441113</td>\n",
       "      <td>0.664955</td>\n",
       "      <td>1.982010e+09</td>\n",
       "      <td>990215.160595</td>\n",
       "      <td>37.943350</td>\n",
       "      <td>2.137364</td>\n",
       "      <td>0.006924</td>\n",
       "      <td>458717.500000</td>\n",
       "    </tr>\n",
       "    <tr>\n",
       "      <th>std</th>\n",
       "      <td>0.570733</td>\n",
       "      <td>15.965490</td>\n",
       "      <td>0.366617</td>\n",
       "      <td>1.023160</td>\n",
       "      <td>3.715783</td>\n",
       "      <td>0.186474</td>\n",
       "      <td>0.271641</td>\n",
       "      <td>0.394590</td>\n",
       "      <td>0.258390</td>\n",
       "      <td>0.297199</td>\n",
       "      <td>...</td>\n",
       "      <td>2.423553</td>\n",
       "      <td>0.073616</td>\n",
       "      <td>0.501493</td>\n",
       "      <td>0.476744</td>\n",
       "      <td>1.897962e+12</td>\n",
       "      <td>83.910449</td>\n",
       "      <td>18.563696</td>\n",
       "      <td>0.416042</td>\n",
       "      <td>0.033644</td>\n",
       "      <td>264841.105121</td>\n",
       "    </tr>\n",
       "    <tr>\n",
       "      <th>min</th>\n",
       "      <td>0.000000</td>\n",
       "      <td>0.000000</td>\n",
       "      <td>0.000000</td>\n",
       "      <td>0.000000</td>\n",
       "      <td>0.000000</td>\n",
       "      <td>0.000000</td>\n",
       "      <td>0.000000</td>\n",
       "      <td>0.000000</td>\n",
       "      <td>0.000000</td>\n",
       "      <td>0.000000</td>\n",
       "      <td>...</td>\n",
       "      <td>0.000000</td>\n",
       "      <td>0.000000</td>\n",
       "      <td>0.000000</td>\n",
       "      <td>0.000000</td>\n",
       "      <td>1.001400e+05</td>\n",
       "      <td>990000.000000</td>\n",
       "      <td>0.000000</td>\n",
       "      <td>2.000000</td>\n",
       "      <td>0.000000</td>\n",
       "      <td>0.000000</td>\n",
       "    </tr>\n",
       "    <tr>\n",
       "      <th>25%</th>\n",
       "      <td>0.100848</td>\n",
       "      <td>15.729841</td>\n",
       "      <td>0.000000</td>\n",
       "      <td>0.813121</td>\n",
       "      <td>2.568603</td>\n",
       "      <td>0.000000</td>\n",
       "      <td>0.047757</td>\n",
       "      <td>0.000000</td>\n",
       "      <td>0.306493</td>\n",
       "      <td>0.000000</td>\n",
       "      <td>...</td>\n",
       "      <td>0.057647</td>\n",
       "      <td>0.032947</td>\n",
       "      <td>0.000000</td>\n",
       "      <td>0.000000</td>\n",
       "      <td>5.005950e+05</td>\n",
       "      <td>990180.000000</td>\n",
       "      <td>25.000000</td>\n",
       "      <td>2.000000</td>\n",
       "      <td>0.000000</td>\n",
       "      <td>229358.750000</td>\n",
       "    </tr>\n",
       "    <tr>\n",
       "      <th>50%</th>\n",
       "      <td>0.189693</td>\n",
       "      <td>30.883261</td>\n",
       "      <td>0.252884</td>\n",
       "      <td>1.184236</td>\n",
       "      <td>4.325665</td>\n",
       "      <td>0.020706</td>\n",
       "      <td>0.077763</td>\n",
       "      <td>0.010666</td>\n",
       "      <td>0.396023</td>\n",
       "      <td>0.000000</td>\n",
       "      <td>...</td>\n",
       "      <td>0.112992</td>\n",
       "      <td>0.101609</td>\n",
       "      <td>0.000000</td>\n",
       "      <td>1.000000</td>\n",
       "      <td>5.021550e+05</td>\n",
       "      <td>990210.000000</td>\n",
       "      <td>34.000000</td>\n",
       "      <td>2.000000</td>\n",
       "      <td>0.000000</td>\n",
       "      <td>458717.500000</td>\n",
       "    </tr>\n",
       "    <tr>\n",
       "      <th>75%</th>\n",
       "      <td>0.338508</td>\n",
       "      <td>38.560106</td>\n",
       "      <td>0.403589</td>\n",
       "      <td>1.795286</td>\n",
       "      <td>6.125351</td>\n",
       "      <td>0.034927</td>\n",
       "      <td>0.205338</td>\n",
       "      <td>0.121406</td>\n",
       "      <td>0.562302</td>\n",
       "      <td>0.079186</td>\n",
       "      <td>...</td>\n",
       "      <td>0.175123</td>\n",
       "      <td>0.148875</td>\n",
       "      <td>1.000000</td>\n",
       "      <td>1.000000</td>\n",
       "      <td>5.021700e+05</td>\n",
       "      <td>990260.000000</td>\n",
       "      <td>48.000000</td>\n",
       "      <td>2.000000</td>\n",
       "      <td>0.000000</td>\n",
       "      <td>688076.250000</td>\n",
       "    </tr>\n",
       "    <tr>\n",
       "      <th>max</th>\n",
       "      <td>21.375407</td>\n",
       "      <td>100.000000</td>\n",
       "      <td>9.903374</td>\n",
       "      <td>35.776437</td>\n",
       "      <td>95.197376</td>\n",
       "      <td>27.117756</td>\n",
       "      <td>18.206225</td>\n",
       "      <td>32.081430</td>\n",
       "      <td>30.975642</td>\n",
       "      <td>14.038728</td>\n",
       "      <td>...</td>\n",
       "      <td>100.000000</td>\n",
       "      <td>1.000000</td>\n",
       "      <td>8.000000</td>\n",
       "      <td>4.000000</td>\n",
       "      <td>1.817922e+15</td>\n",
       "      <td>990665.000000</td>\n",
       "      <td>123.000000</td>\n",
       "      <td>6.000000</td>\n",
       "      <td>1.000000</td>\n",
       "      <td>917435.000000</td>\n",
       "    </tr>\n",
       "  </tbody>\n",
       "</table>\n",
       "<p>8 rows × 25 columns</p>\n",
       "</div>"
      ],
      "text/plain": [
       "       khadamat_moshavere  pezeshk_jarah    komak_jarah  daroo_otagh_amal  \\\n",
       "count       917436.000000  917436.000000  917436.000000     917436.000000   \n",
       "mean             0.298250      30.645158       0.298969          1.503234   \n",
       "std              0.570733      15.965490       0.366617          1.023160   \n",
       "min              0.000000       0.000000       0.000000          0.000000   \n",
       "25%              0.100848      15.729841       0.000000          0.813121   \n",
       "50%              0.189693      30.883261       0.252884          1.184236   \n",
       "75%              0.338508      38.560106       0.403589          1.795286   \n",
       "max             21.375407     100.000000       9.903374         35.776437   \n",
       "\n",
       "        lavazem_amal     sonograghi   radiogeraghi    navarnegari  \\\n",
       "count  917436.000000  917436.000000  917436.000000  917436.000000   \n",
       "mean        5.156288       0.038964       0.170510       0.086651   \n",
       "std         3.715783       0.186474       0.271641       0.394590   \n",
       "min         0.000000       0.000000       0.000000       0.000000   \n",
       "25%         2.568603       0.000000       0.047757       0.000000   \n",
       "50%         4.325665       0.020706       0.077763       0.010666   \n",
       "75%         6.125351       0.034927       0.205338       0.121406   \n",
       "max        95.197376      27.117756      18.206225      32.081430   \n",
       "\n",
       "          azmayeshat    asibshenasi  ...          sayer  \\\n",
       "count  917436.000000  917436.000000  ...  917436.000000   \n",
       "mean        0.439010       0.128618  ...       0.747239   \n",
       "std         0.258390       0.297199  ...       2.423553   \n",
       "min         0.000000       0.000000  ...       0.000000   \n",
       "25%         0.306493       0.000000  ...       0.057647   \n",
       "50%         0.396023       0.000000  ...       0.112992   \n",
       "75%         0.562302       0.079186  ...       0.175123   \n",
       "max        30.975642      14.038728  ...     100.000000   \n",
       "\n",
       "       EXTRA_FIRST_INSURANCE_AMOUNT_PERCENT  IS_FULL_TIME_PROFESSIONAL  \\\n",
       "count                         663903.000000              913612.000000   \n",
       "mean                               0.098154                   0.441113   \n",
       "std                                0.073616                   0.501493   \n",
       "min                                0.000000                   0.000000   \n",
       "25%                                0.032947                   0.000000   \n",
       "50%                                0.101609                   0.000000   \n",
       "75%                                0.148875                   1.000000   \n",
       "max                                1.000000                   8.000000   \n",
       "\n",
       "       IS_FULL_TIME_ANESTHESIA  SERVICE_ITEM_CODE  GLOBAL_NATIONAL_CODE  \\\n",
       "count            672740.000000       9.174360e+05         917436.000000   \n",
       "mean                  0.664955       1.982010e+09         990215.160595   \n",
       "std                   0.476744       1.897962e+12             83.910449   \n",
       "min                   0.000000       1.001400e+05         990000.000000   \n",
       "25%                   0.000000       5.005950e+05         990180.000000   \n",
       "50%                   1.000000       5.021550e+05         990210.000000   \n",
       "75%                   1.000000       5.021700e+05         990260.000000   \n",
       "max                   4.000000       1.817922e+15         990665.000000   \n",
       "\n",
       "         INSURED_AGE  ACCREDITATION_LEVEL_ID  DEDUCTION_AMOUNT_PERCENT  \\\n",
       "count  917436.000000           917436.000000             917436.000000   \n",
       "mean       37.943350                2.137364                  0.006924   \n",
       "std        18.563696                0.416042                  0.033644   \n",
       "min         0.000000                2.000000                  0.000000   \n",
       "25%        25.000000                2.000000                  0.000000   \n",
       "50%        34.000000                2.000000                  0.000000   \n",
       "75%        48.000000                2.000000                  0.000000   \n",
       "max       123.000000                6.000000                  1.000000   \n",
       "\n",
       "       original_index  \n",
       "count   917436.000000  \n",
       "mean    458717.500000  \n",
       "std     264841.105121  \n",
       "min          0.000000  \n",
       "25%     229358.750000  \n",
       "50%     458717.500000  \n",
       "75%     688076.250000  \n",
       "max     917435.000000  \n",
       "\n",
       "[8 rows x 25 columns]"
      ]
     },
     "execution_count": 19,
     "metadata": {},
     "output_type": "execute_result"
    }
   ],
   "source": [
    "df.describe()"
   ]
  },
  {
   "cell_type": "code",
   "execution_count": 20,
   "id": "5e0979c6",
   "metadata": {},
   "outputs": [],
   "source": [
    "df.loc[df['IS_FULL_TIME_PROFESSIONAL']>=1.0,'IS_FULL_TIME_PROFESSIONAL'] = 1.0\n",
    "df.loc[df['IS_FULL_TIME_ANESTHESIA']>=1.0,'IS_FULL_TIME_ANESTHESIA'] = 1.0"
   ]
  },
  {
   "cell_type": "code",
   "execution_count": 21,
   "id": "a5fc671a",
   "metadata": {},
   "outputs": [
    {
     "data": {
      "text/plain": [
       "khadamat_moshavere                           0\n",
       "pezeshk_jarah                                0\n",
       "komak_jarah                                  0\n",
       "daroo_otagh_amal                             0\n",
       "lavazem_amal                                 0\n",
       "sonograghi                                   0\n",
       "radiogeraghi                                 0\n",
       "navarnegari                                  0\n",
       "azmayeshat                                   0\n",
       "asibshenasi                                  0\n",
       "visit                                        0\n",
       "bihoshi                                      0\n",
       "othagh_amal                                  0\n",
       "hoteling                                     0\n",
       "parastari                                    3\n",
       "sayer                                        0\n",
       "EXTRA_FIRST_INSURANCE_AMOUNT            253533\n",
       "EXTRA_FIRST_INSURANCE_AMOUNT_PERCENT    253533\n",
       "IS_FULL_TIME_PROFESSIONAL                 3824\n",
       "IS_FULL_TIME_ANESTHESIA                 244696\n",
       "SERVICE_ITEM_CODE                            0\n",
       "GLOBAL_NATIONAL_CODE                         0\n",
       "GENDER_TYPE                                  0\n",
       "INSURED_AGE                                  0\n",
       "ACCREDITATION_LEVEL_ID                       0\n",
       "DEDUCTION_AMOUNT_PERCENT                     0\n",
       "original_index                               0\n",
       "dtype: int64"
      ]
     },
     "execution_count": 21,
     "metadata": {},
     "output_type": "execute_result"
    }
   ],
   "source": [
    "df.isna().sum()"
   ]
  },
  {
   "cell_type": "code",
   "execution_count": 22,
   "id": "acd6b0f0",
   "metadata": {},
   "outputs": [],
   "source": [
    "df['DEDUCTION_AMOUNT_PERCENT'] = np.round(df['DEDUCTION_AMOUNT_PERCENT'] * 100,2)"
   ]
  },
  {
   "cell_type": "code",
   "execution_count": 23,
   "id": "010ce2c6",
   "metadata": {},
   "outputs": [],
   "source": [
    "df.loc[(df['DEDUCTION_AMOUNT_PERCENT']==0.0) | (df['DEDUCTION_AMOUNT_PERCENT']==0),'target']=0\n",
    "df.loc[((df['DEDUCTION_AMOUNT_PERCENT']>0.0) & (df['DEDUCTION_AMOUNT_PERCENT']<11.0)),'target']=1\n",
    "df.loc[df['DEDUCTION_AMOUNT_PERCENT']>=11.0,'target']=1"
   ]
  },
  {
   "cell_type": "code",
   "execution_count": 24,
   "id": "010c680e",
   "metadata": {},
   "outputs": [
    {
     "data": {
      "text/plain": [
       "target\n",
       "0.0    756043\n",
       "1.0    161393\n",
       "dtype: int64"
      ]
     },
     "execution_count": 24,
     "metadata": {},
     "output_type": "execute_result"
    }
   ],
   "source": [
    "df.groupby('target').size()"
   ]
  },
  {
   "cell_type": "code",
   "execution_count": 25,
   "id": "b177d7be",
   "metadata": {},
   "outputs": [],
   "source": [
    "df.drop(columns=['EXTRA_FIRST_INSURANCE_AMOUNT'],inplace=True)"
   ]
  },
  {
   "cell_type": "code",
   "execution_count": 26,
   "id": "2c90fc82",
   "metadata": {},
   "outputs": [],
   "source": [
    "df.fillna(0,inplace=True)"
   ]
  },
  {
   "cell_type": "code",
   "execution_count": 27,
   "id": "ba97bc20",
   "metadata": {},
   "outputs": [],
   "source": [
    "df.drop(columns=['DEDUCTION_AMOUNT_PERCENT'],inplace=True)"
   ]
  },
  {
   "cell_type": "code",
   "execution_count": 28,
   "id": "445f7246",
   "metadata": {},
   "outputs": [
    {
     "data": {
      "text/plain": [
       "ACCREDITATION_LEVEL_ID\n",
       "2    808461\n",
       "3     99460\n",
       "4      2445\n",
       "5      6607\n",
       "6       463\n",
       "dtype: int64"
      ]
     },
     "execution_count": 28,
     "metadata": {},
     "output_type": "execute_result"
    }
   ],
   "source": [
    "df.groupby('ACCREDITATION_LEVEL_ID').size()"
   ]
  },
  {
   "cell_type": "code",
   "execution_count": 29,
   "id": "b80eedaa",
   "metadata": {},
   "outputs": [],
   "source": [
    "bins = [0, 5, 15, 25, 35,45,55,65,75, np.inf]\n",
    "labels = ['0-5', '6-15', '16-25', '26-35','36-45','46-55','56-65','66-75', '76+']\n",
    "df['age_category'] = pd.cut(df['INSURED_AGE'], bins=bins, labels=labels, right=True)"
   ]
  },
  {
   "cell_type": "code",
   "execution_count": 30,
   "id": "0ca5225d",
   "metadata": {},
   "outputs": [],
   "source": [
    "dict = {'0-5': 0 , '6-15': 1 , '16-25': 2 , '26-35': 3 ,'26-35':4 , '36-45':5 , '46-55':6 , '56-65':7 , '66-75':8 , '76+':9}\n",
    "df['age_category_encode'] = df['age_category'].map(dict)"
   ]
  },
  {
   "cell_type": "code",
   "execution_count": 31,
   "id": "9412961e",
   "metadata": {},
   "outputs": [
    {
     "data": {
      "text/html": [
       "<div>\n",
       "<style scoped>\n",
       "    .dataframe tbody tr th:only-of-type {\n",
       "        vertical-align: middle;\n",
       "    }\n",
       "\n",
       "    .dataframe tbody tr th {\n",
       "        vertical-align: top;\n",
       "    }\n",
       "\n",
       "    .dataframe thead th {\n",
       "        text-align: right;\n",
       "    }\n",
       "</style>\n",
       "<table border=\"1\" class=\"dataframe\">\n",
       "  <thead>\n",
       "    <tr style=\"text-align: right;\">\n",
       "      <th></th>\n",
       "      <th>INSURED_AGE</th>\n",
       "      <th>age_category</th>\n",
       "    </tr>\n",
       "  </thead>\n",
       "  <tbody>\n",
       "    <tr>\n",
       "      <th>53</th>\n",
       "      <td>5</td>\n",
       "      <td>0-5</td>\n",
       "    </tr>\n",
       "    <tr>\n",
       "      <th>114</th>\n",
       "      <td>5</td>\n",
       "      <td>0-5</td>\n",
       "    </tr>\n",
       "    <tr>\n",
       "      <th>629</th>\n",
       "      <td>5</td>\n",
       "      <td>0-5</td>\n",
       "    </tr>\n",
       "    <tr>\n",
       "      <th>896</th>\n",
       "      <td>5</td>\n",
       "      <td>0-5</td>\n",
       "    </tr>\n",
       "    <tr>\n",
       "      <th>1094</th>\n",
       "      <td>5</td>\n",
       "      <td>0-5</td>\n",
       "    </tr>\n",
       "    <tr>\n",
       "      <th>...</th>\n",
       "      <td>...</td>\n",
       "      <td>...</td>\n",
       "    </tr>\n",
       "    <tr>\n",
       "      <th>917116</th>\n",
       "      <td>5</td>\n",
       "      <td>0-5</td>\n",
       "    </tr>\n",
       "    <tr>\n",
       "      <th>917118</th>\n",
       "      <td>5</td>\n",
       "      <td>0-5</td>\n",
       "    </tr>\n",
       "    <tr>\n",
       "      <th>917157</th>\n",
       "      <td>5</td>\n",
       "      <td>0-5</td>\n",
       "    </tr>\n",
       "    <tr>\n",
       "      <th>917243</th>\n",
       "      <td>5</td>\n",
       "      <td>0-5</td>\n",
       "    </tr>\n",
       "    <tr>\n",
       "      <th>917363</th>\n",
       "      <td>5</td>\n",
       "      <td>0-5</td>\n",
       "    </tr>\n",
       "  </tbody>\n",
       "</table>\n",
       "<p>3787 rows × 2 columns</p>\n",
       "</div>"
      ],
      "text/plain": [
       "        INSURED_AGE age_category\n",
       "53                5          0-5\n",
       "114               5          0-5\n",
       "629               5          0-5\n",
       "896               5          0-5\n",
       "1094              5          0-5\n",
       "...             ...          ...\n",
       "917116            5          0-5\n",
       "917118            5          0-5\n",
       "917157            5          0-5\n",
       "917243            5          0-5\n",
       "917363            5          0-5\n",
       "\n",
       "[3787 rows x 2 columns]"
      ]
     },
     "execution_count": 31,
     "metadata": {},
     "output_type": "execute_result"
    }
   ],
   "source": [
    "df[df['INSURED_AGE']== 5][['INSURED_AGE','age_category']]"
   ]
  },
  {
   "cell_type": "code",
   "execution_count": 32,
   "id": "9261d2a8",
   "metadata": {},
   "outputs": [
    {
     "data": {
      "text/html": [
       "<div>\n",
       "<style scoped>\n",
       "    .dataframe tbody tr th:only-of-type {\n",
       "        vertical-align: middle;\n",
       "    }\n",
       "\n",
       "    .dataframe tbody tr th {\n",
       "        vertical-align: top;\n",
       "    }\n",
       "\n",
       "    .dataframe thead th {\n",
       "        text-align: right;\n",
       "    }\n",
       "</style>\n",
       "<table border=\"1\" class=\"dataframe\">\n",
       "  <thead>\n",
       "    <tr style=\"text-align: right;\">\n",
       "      <th></th>\n",
       "      <th>khadamat_moshavere</th>\n",
       "      <th>pezeshk_jarah</th>\n",
       "      <th>komak_jarah</th>\n",
       "      <th>daroo_otagh_amal</th>\n",
       "      <th>lavazem_amal</th>\n",
       "      <th>sonograghi</th>\n",
       "      <th>radiogeraghi</th>\n",
       "      <th>navarnegari</th>\n",
       "      <th>azmayeshat</th>\n",
       "      <th>asibshenasi</th>\n",
       "      <th>...</th>\n",
       "      <th>IS_FULL_TIME_ANESTHESIA</th>\n",
       "      <th>SERVICE_ITEM_CODE</th>\n",
       "      <th>GLOBAL_NATIONAL_CODE</th>\n",
       "      <th>GENDER_TYPE</th>\n",
       "      <th>INSURED_AGE</th>\n",
       "      <th>ACCREDITATION_LEVEL_ID</th>\n",
       "      <th>original_index</th>\n",
       "      <th>target</th>\n",
       "      <th>age_category</th>\n",
       "      <th>age_category_encode</th>\n",
       "    </tr>\n",
       "  </thead>\n",
       "  <tbody>\n",
       "    <tr>\n",
       "      <th>877048</th>\n",
       "      <td>0.20062</td>\n",
       "      <td>8.476662</td>\n",
       "      <td>0.169533</td>\n",
       "      <td>1.746938</td>\n",
       "      <td>3.99183</td>\n",
       "      <td>0.05252</td>\n",
       "      <td>0.150369</td>\n",
       "      <td>0.082667</td>\n",
       "      <td>0.408264</td>\n",
       "      <td>0.80449</td>\n",
       "      <td>...</td>\n",
       "      <td>0.0</td>\n",
       "      <td>100160</td>\n",
       "      <td>990005</td>\n",
       "      <td>male</td>\n",
       "      <td>0</td>\n",
       "      <td>2</td>\n",
       "      <td>877048</td>\n",
       "      <td>0.0</td>\n",
       "      <td>NaN</td>\n",
       "      <td>NaN</td>\n",
       "    </tr>\n",
       "  </tbody>\n",
       "</table>\n",
       "<p>1 rows × 28 columns</p>\n",
       "</div>"
      ],
      "text/plain": [
       "        khadamat_moshavere  pezeshk_jarah  komak_jarah  daroo_otagh_amal  \\\n",
       "877048             0.20062       8.476662     0.169533          1.746938   \n",
       "\n",
       "        lavazem_amal  sonograghi  radiogeraghi  navarnegari  azmayeshat  \\\n",
       "877048       3.99183     0.05252      0.150369     0.082667    0.408264   \n",
       "\n",
       "        asibshenasi  ...  IS_FULL_TIME_ANESTHESIA  SERVICE_ITEM_CODE  \\\n",
       "877048      0.80449  ...                      0.0             100160   \n",
       "\n",
       "        GLOBAL_NATIONAL_CODE  GENDER_TYPE  INSURED_AGE  \\\n",
       "877048                990005         male            0   \n",
       "\n",
       "        ACCREDITATION_LEVEL_ID  original_index  target  age_category  \\\n",
       "877048                       2          877048     0.0           NaN   \n",
       "\n",
       "        age_category_encode  \n",
       "877048                  NaN  \n",
       "\n",
       "[1 rows x 28 columns]"
      ]
     },
     "execution_count": 32,
     "metadata": {},
     "output_type": "execute_result"
    }
   ],
   "source": [
    "df[df['age_category_encode'].isna()]"
   ]
  },
  {
   "cell_type": "code",
   "execution_count": 33,
   "id": "874c0ece",
   "metadata": {},
   "outputs": [],
   "source": [
    "df.loc[df['age_category_encode'].isna(),'age_category_encode'] = 0"
   ]
  },
  {
   "cell_type": "code",
   "execution_count": 34,
   "id": "a3d55acb",
   "metadata": {},
   "outputs": [],
   "source": [
    "dictAcc = {2: 0 , 3: 1 , 4: 1 , 5: 1, 6: 1}\n",
    "df['ACCREDITATION_LEVEL_ID_category'] = df['ACCREDITATION_LEVEL_ID'].map(dictAcc)"
   ]
  },
  {
   "cell_type": "code",
   "execution_count": 35,
   "id": "2420cc06",
   "metadata": {},
   "outputs": [
    {
     "data": {
      "text/plain": [
       "ACCREDITATION_LEVEL_ID_category\n",
       "0    808461\n",
       "1    108975\n",
       "dtype: int64"
      ]
     },
     "execution_count": 35,
     "metadata": {},
     "output_type": "execute_result"
    }
   ],
   "source": [
    "df.groupby('ACCREDITATION_LEVEL_ID_category').size()"
   ]
  },
  {
   "cell_type": "code",
   "execution_count": 36,
   "id": "fdf13b7f",
   "metadata": {},
   "outputs": [],
   "source": [
    "df.drop(columns=['ACCREDITATION_LEVEL_ID','age_category'],inplace=True)"
   ]
  },
  {
   "cell_type": "code",
   "execution_count": 37,
   "id": "10552c36",
   "metadata": {},
   "outputs": [],
   "source": [
    "df.drop(columns=['INSURED_AGE'],inplace=True)"
   ]
  },
  {
   "cell_type": "code",
   "execution_count": 38,
   "id": "3ac343f8",
   "metadata": {},
   "outputs": [
    {
     "data": {
      "text/plain": [
       "4    264550\n",
       "2    172159\n",
       "5    168390\n",
       "8     76127\n",
       "6     67800\n",
       "7     67778\n",
       "1     52460\n",
       "9     35859\n",
       "0     12313\n",
       "Name: age_category_encode, dtype: int64"
      ]
     },
     "execution_count": 38,
     "metadata": {},
     "output_type": "execute_result"
    }
   ],
   "source": [
    "df['age_category_encode'].value_counts()"
   ]
  },
  {
   "cell_type": "code",
   "execution_count": 39,
   "id": "6e4f1cb8",
   "metadata": {},
   "outputs": [],
   "source": [
    "colNums = ['khadamat_moshavere',  'komak_jarah',\n",
    "       'daroo_otagh_amal', 'lavazem_amal', 'sonograghi', 'radiogeraghi',\n",
    "       'navarnegari', 'azmayeshat', 'asibshenasi', 'visit',\n",
    "       'othagh_amal',   'sayer',\n",
    "       'EXTRA_FIRST_INSURANCE_AMOUNT_PERCENT']"
   ]
  },
  {
   "cell_type": "code",
   "execution_count": 40,
   "id": "54c4e8b1",
   "metadata": {},
   "outputs": [],
   "source": [
    "for c in colNums:\n",
    "    adjusted_column = df[c] + 1\n",
    "  # Step 4: Apply log transformation\n",
    "    log_transformed_column = np.log(adjusted_column)\n",
    "    colName = c + '_log'\n",
    "    df[colName] = log_transformed_column"
   ]
  },
  {
   "cell_type": "code",
   "execution_count": 42,
   "id": "8701fa00",
   "metadata": {},
   "outputs": [],
   "source": [
    "df.drop(columns=colNums,inplace=True)"
   ]
  },
  {
   "cell_type": "code",
   "execution_count": 43,
   "id": "6bf6a825",
   "metadata": {},
   "outputs": [],
   "source": [
    "import joblib"
   ]
  },
  {
   "cell_type": "code",
   "execution_count": 44,
   "id": "d05ccea7",
   "metadata": {},
   "outputs": [],
   "source": [
    "colsJeo = [ 'bihoshi' , 'hoteling', 'parastari',  'pezeshk_jarah']"
   ]
  },
  {
   "cell_type": "code",
   "execution_count": 45,
   "id": "cddc12e0",
   "metadata": {},
   "outputs": [
    {
     "data": {
      "text/plain": [
       "['columnNameYeojohnsonList.pkl']"
      ]
     },
     "execution_count": 45,
     "metadata": {},
     "output_type": "execute_result"
    }
   ],
   "source": [
    "joblib.dump(colNums, 'columnNameLogList.pkl')\n",
    "joblib.dump(colsJeo, 'columnNameYeojohnsonList.pkl')"
   ]
  },
  {
   "cell_type": "code",
   "execution_count": 46,
   "id": "2ca1b0cf",
   "metadata": {},
   "outputs": [],
   "source": [
    "df.loc[df['GENDER_TYPE'].isin(['UNDEFINED','UNKNOWN'] ),'GENDER_TYPE']='FEMALE'"
   ]
  },
  {
   "cell_type": "code",
   "execution_count": 47,
   "id": "491026d7",
   "metadata": {},
   "outputs": [],
   "source": [
    "df['IS_FULL_TIME_PROFESSIONAL'] = df['IS_FULL_TIME_PROFESSIONAL'].astype(int)\n",
    "df['IS_FULL_TIME_ANESTHESIA'] = df['IS_FULL_TIME_ANESTHESIA'].astype(int)\n",
    "df['target'] = df['target'].astype(int)"
   ]
  },
  {
   "cell_type": "code",
   "execution_count": 48,
   "id": "dab53fbe",
   "metadata": {},
   "outputs": [],
   "source": [
    "df =  pd.get_dummies(df, columns=['IS_FULL_TIME_PROFESSIONAL', 'IS_FULL_TIME_ANESTHESIA','GENDER_TYPE','ACCREDITATION_LEVEL_ID_category'])"
   ]
  },
  {
   "cell_type": "code",
   "execution_count": 49,
   "id": "e5d6ea3f",
   "metadata": {},
   "outputs": [],
   "source": [
    "df['IS_FULL_TIME_PROFESSIONAL_0'] = df['IS_FULL_TIME_PROFESSIONAL_0'].astype(int)\n",
    "df['IS_FULL_TIME_PROFESSIONAL_1'] = df['IS_FULL_TIME_PROFESSIONAL_1'].astype(int)\n",
    "df['IS_FULL_TIME_ANESTHESIA_0'] = df['IS_FULL_TIME_ANESTHESIA_0'].astype(int)\n",
    "df['IS_FULL_TIME_ANESTHESIA_1'] = df['IS_FULL_TIME_ANESTHESIA_1'].astype(int)\n",
    "df['GENDER_TYPE_FEMALE'] = df['GENDER_TYPE_FEMALE'].astype(int)\n",
    "df['GENDER_TYPE_male'] = df['GENDER_TYPE_male'].astype(int)\n",
    "df['ACCREDITATION_LEVEL_ID_category_0'] = df['ACCREDITATION_LEVEL_ID_category_0'].astype(int)\n",
    "df['ACCREDITATION_LEVEL_ID_category_1'] = df['ACCREDITATION_LEVEL_ID_category_1'].astype(int)\n",
    "df['target'] = df['target'].astype(int)"
   ]
  },
  {
   "cell_type": "code",
   "execution_count": 50,
   "id": "6cb85e76",
   "metadata": {},
   "outputs": [],
   "source": [
    "colss = ['khadamat_moshavere_log', 'komak_jarah_log',\n",
    "       'daroo_otagh_amal_log', 'lavazem_amal_log', 'sonograghi_log',\n",
    "       'radiogeraghi_log', 'navarnegari_log', 'azmayeshat_log',\n",
    "       'asibshenasi_log', 'visit_log', 'othagh_amal_log', 'sayer_log',\n",
    "       'EXTRA_FIRST_INSURANCE_AMOUNT_PERCENT_log', 'bihoshi',\n",
    "       'hoteling', 'parastari', 'pezeshk_jarah']"
   ]
  },
  {
   "cell_type": "code",
   "execution_count": 51,
   "id": "202a8eec",
   "metadata": {},
   "outputs": [
    {
     "data": {
      "text/plain": [
       "['khadamat_moshavere_log',\n",
       " 'komak_jarah_log',\n",
       " 'daroo_otagh_amal_log',\n",
       " 'lavazem_amal_log',\n",
       " 'sonograghi_log',\n",
       " 'radiogeraghi_log',\n",
       " 'navarnegari_log',\n",
       " 'azmayeshat_log',\n",
       " 'asibshenasi_log',\n",
       " 'visit_log',\n",
       " 'othagh_amal_log',\n",
       " 'sayer_log',\n",
       " 'EXTRA_FIRST_INSURANCE_AMOUNT_PERCENT_log',\n",
       " 'bihoshi',\n",
       " 'hoteling',\n",
       " 'parastari',\n",
       " 'pezeshk_jarah']"
      ]
     },
     "execution_count": 51,
     "metadata": {},
     "output_type": "execute_result"
    }
   ],
   "source": [
    "colss"
   ]
  },
  {
   "cell_type": "code",
   "execution_count": 52,
   "id": "e4ed148f",
   "metadata": {},
   "outputs": [],
   "source": [
    "dictOutlier = {}"
   ]
  },
  {
   "cell_type": "code",
   "execution_count": 53,
   "id": "51d5b4fe",
   "metadata": {},
   "outputs": [
    {
     "name": "stdout",
     "output_type": "stream",
     "text": [
      "khadamat_moshavere_log\n",
      "-0.4439742408000672\n",
      "0.9007339216837409\n",
      "exp lower=1.0\n",
      "exp upper=2.0\n",
      "24150\n",
      "---------------------------\n",
      "komak_jarah_log\n",
      "-0.9523308100943344\n",
      "1.5872180168238907\n",
      "exp lower=0.0\n",
      "exp upper=5.0\n",
      "274\n",
      "---------------------------\n",
      "daroo_otagh_amal_log\n",
      "-0.6812052077775589\n",
      "2.5643940546542234\n",
      "exp lower=1.0\n",
      "exp upper=13.0\n",
      "132\n",
      "---------------------------\n",
      "lavazem_amal_log\n",
      "-1.3587969687435764\n",
      "4.737369437775809\n",
      "exp lower=0.0\n",
      "exp upper=114.0\n",
      "0\n",
      "---------------------------\n",
      "sonograghi_log\n",
      "-0.13037815063650038\n",
      "0.21729691772750065\n",
      "exp lower=1.0\n",
      "exp upper=1.0\n",
      "8693\n",
      "---------------------------\n",
      "radiogeraghi_log\n",
      "-0.3524290485130508\n",
      "0.6679163466840967\n",
      "exp lower=1.0\n",
      "exp upper=2.0\n",
      "19067\n",
      "---------------------------\n",
      "navarnegari_log\n",
      "-0.23779836521957518\n",
      "0.39633060869929193\n",
      "exp lower=1.0\n",
      "exp upper=1.0\n",
      "9459\n",
      "---------------------------\n",
      "azmayeshat_log\n",
      "-0.3389502225858655\n",
      "1.0463142566469243\n",
      "exp lower=1.0\n",
      "exp upper=3.0\n",
      "651\n",
      "---------------------------\n",
      "asibshenasi_log\n",
      "-0.6577179427156978\n",
      "1.0961965711928299\n",
      "exp lower=1.0\n",
      "exp upper=3.0\n",
      "429\n",
      "---------------------------\n",
      "visit_log\n",
      "-3.5916465709217507\n",
      "5.986077618202918\n",
      "exp lower=0.0\n",
      "exp upper=398.0\n",
      "0\n",
      "---------------------------\n",
      "othagh_amal_log\n",
      "0.413451652517691\n",
      "4.0084266875471455\n",
      "exp lower=2.0\n",
      "exp upper=55.0\n",
      "37\n",
      "---------------------------\n",
      "sayer_log\n",
      "-1.3163348840398625\n",
      "2.2807347315316573\n",
      "exp lower=0.0\n",
      "exp upper=10.0\n",
      "18219\n",
      "---------------------------\n",
      "EXTRA_FIRST_INSURANCE_AMOUNT_PERCENT_log\n",
      "-0.24619603255488365\n",
      "0.41032672092480604\n",
      "exp lower=1.0\n",
      "exp upper=2.0\n",
      "95\n",
      "---------------------------\n",
      "bihoshi\n",
      "-42.51036260406144\n",
      "70.8506043401024\n",
      "exp lower=0.0\n",
      "exp upper=5.888795928006113e+30\n",
      "4\n",
      "---------------------------\n",
      "hoteling\n",
      "-11.332963347319053\n",
      "59.17704903372824\n",
      "exp lower=0.0\n",
      "exp upper=5.01494126197192e+25\n",
      "104\n",
      "---------------------------\n",
      "parastari\n",
      "-7.341777655254846\n",
      "29.738471696062177\n",
      "exp lower=0.0\n",
      "exp upper=8227239836562.0\n",
      "451\n",
      "---------------------------\n",
      "pezeshk_jarah\n",
      "-56.02001565653551\n",
      "126.41791371531467\n",
      "exp lower=0.0\n",
      "exp upper=7.991022256914805e+54\n",
      "0\n",
      "---------------------------\n"
     ]
    }
   ],
   "source": [
    "for c in colss:\n",
    "    print(c)\n",
    "    Q1 = df[c].quantile(0.10)\n",
    "    Q3 = df[c].quantile(0.90)\n",
    "    IQR = Q3 - Q1\n",
    "\n",
    "    lower_bound = Q1 - 1.5 * IQR\n",
    "    upper_bound = Q3 + 1.5 * IQR\n",
    "\n",
    "    dictOutlier[c] = {'lower_bound':lower_bound , 'upper_bound':upper_bound}\n",
    "    print(lower_bound)\n",
    "    print(upper_bound)\n",
    "    print('exp lower='+str(np.round(np.exp(lower_bound))))\n",
    "    print('exp upper='+str(np.round(np.exp(upper_bound))))\n",
    "    cnt =  df[(df[c] < lower_bound) | (df[c] > upper_bound)][[c]].size\n",
    "    print(cnt)\n",
    "    df.loc[(df[c] < lower_bound) | (df[c] > upper_bound),c]=np.nan\n",
    "    print('---------------------------')"
   ]
  },
  {
   "cell_type": "code",
   "execution_count": 54,
   "id": "8f2bd60c",
   "metadata": {},
   "outputs": [
    {
     "data": {
      "text/plain": [
       "{'khadamat_moshavere_log': {'lower_bound': -0.4439742408000672,\n",
       "  'upper_bound': 0.9007339216837409},\n",
       " 'komak_jarah_log': {'lower_bound': -0.9523308100943344,\n",
       "  'upper_bound': 1.5872180168238907},\n",
       " 'daroo_otagh_amal_log': {'lower_bound': -0.6812052077775589,\n",
       "  'upper_bound': 2.5643940546542234},\n",
       " 'lavazem_amal_log': {'lower_bound': -1.3587969687435764,\n",
       "  'upper_bound': 4.737369437775809},\n",
       " 'sonograghi_log': {'lower_bound': -0.13037815063650038,\n",
       "  'upper_bound': 0.21729691772750065},\n",
       " 'radiogeraghi_log': {'lower_bound': -0.3524290485130508,\n",
       "  'upper_bound': 0.6679163466840967},\n",
       " 'navarnegari_log': {'lower_bound': -0.23779836521957518,\n",
       "  'upper_bound': 0.39633060869929193},\n",
       " 'azmayeshat_log': {'lower_bound': -0.3389502225858655,\n",
       "  'upper_bound': 1.0463142566469243},\n",
       " 'asibshenasi_log': {'lower_bound': -0.6577179427156978,\n",
       "  'upper_bound': 1.0961965711928299},\n",
       " 'visit_log': {'lower_bound': -3.5916465709217507,\n",
       "  'upper_bound': 5.986077618202918},\n",
       " 'othagh_amal_log': {'lower_bound': 0.413451652517691,\n",
       "  'upper_bound': 4.0084266875471455},\n",
       " 'sayer_log': {'lower_bound': -1.3163348840398625,\n",
       "  'upper_bound': 2.2807347315316573},\n",
       " 'EXTRA_FIRST_INSURANCE_AMOUNT_PERCENT_log': {'lower_bound': -0.24619603255488365,\n",
       "  'upper_bound': 0.41032672092480604},\n",
       " 'bihoshi': {'lower_bound': -42.51036260406144,\n",
       "  'upper_bound': 70.8506043401024},\n",
       " 'hoteling': {'lower_bound': -11.332963347319053,\n",
       "  'upper_bound': 59.17704903372824},\n",
       " 'parastari': {'lower_bound': -7.341777655254846,\n",
       "  'upper_bound': 29.738471696062177},\n",
       " 'pezeshk_jarah': {'lower_bound': -56.02001565653551,\n",
       "  'upper_bound': 126.41791371531467}}"
      ]
     },
     "execution_count": 54,
     "metadata": {},
     "output_type": "execute_result"
    }
   ],
   "source": [
    "dictOutlier"
   ]
  },
  {
   "cell_type": "code",
   "execution_count": 55,
   "id": "abc84981",
   "metadata": {},
   "outputs": [
    {
     "data": {
      "text/plain": [
       "['dictOutlier.pkl']"
      ]
     },
     "execution_count": 55,
     "metadata": {},
     "output_type": "execute_result"
    }
   ],
   "source": [
    "joblib.dump(dictOutlier, 'dictOutlier.pkl')"
   ]
  },
  {
   "cell_type": "code",
   "execution_count": 56,
   "id": "c96d6b64",
   "metadata": {},
   "outputs": [
    {
     "name": "stdout",
     "output_type": "stream",
     "text": [
      "(917436, 30)\n",
      "(841203, 30)\n"
     ]
    }
   ],
   "source": [
    "print(df.shape)\n",
    "df = df.dropna()\n",
    "print(df.shape)"
   ]
  },
  {
   "cell_type": "code",
   "execution_count": 57,
   "id": "15d9cf9f",
   "metadata": {},
   "outputs": [
    {
     "data": {
      "text/plain": [
       "target\n",
       "0    696116\n",
       "1    145087\n",
       "dtype: int64"
      ]
     },
     "execution_count": 57,
     "metadata": {},
     "output_type": "execute_result"
    }
   ],
   "source": [
    "df.groupby('target').size()"
   ]
  },
  {
   "cell_type": "code",
   "execution_count": 59,
   "id": "a89527fa",
   "metadata": {},
   "outputs": [],
   "source": [
    "import numpy as np\n",
    "import pandas as pd\n",
    "from sklearn.model_selection import train_test_split\n",
    "from sklearn.ensemble import RandomForestClassifier\n",
    "import xgboost as xgb\n",
    "from sklearn.metrics import classification_report, confusion_matrix\n",
    "from sklearn.model_selection import GridSearchCV\n",
    "from sklearn.metrics import roc_auc_score\n",
    "import sklearn.preprocessing as preprocessing"
   ]
  },
  {
   "cell_type": "code",
   "execution_count": null,
   "id": "b8b86c94",
   "metadata": {},
   "outputs": [],
   "source": [
    "X = df.drop('target', axis=1)\n",
    "y = df['target']\n",
    "\n",
    "# Perform train-test splits\n",
    "X_train, X_temp, y_train, y_temp = train_test_split(X, y, test_size=0.3, random_state=42, stratify=y, shuffle=True)\n",
    "X_val, X_test, y_val, y_test = train_test_split(X_temp, y_temp, test_size=0.5, random_state=42, stratify=y_temp, shuffle=True)\n",
    "\n",
    "# The 'original_index' is now preserved in each of the split DataFrames\n",
    "# You can access them like this:\n",
    "X_train_indices = X_train['original_index']\n",
    "X_val_indices = X_val['original_index']\n",
    "X_test_indices = X_test['original_index']"
   ]
  },
  {
   "cell_type": "code",
   "execution_count": null,
   "id": "5ff1c18c",
   "metadata": {},
   "outputs": [],
   "source": [
    "dff.loc[X_train_indices][['SERVICE_ITEM_CODE','GLOBAL_NATIONAL_CODE']]"
   ]
  },
  {
   "cell_type": "code",
   "execution_count": null,
   "id": "a521e1fe",
   "metadata": {},
   "outputs": [],
   "source": [
    "X_train.drop(columns=['original_index'],inplace=True)\n",
    "X_val.drop(columns=['original_index'],inplace=True)\n",
    "X_test.drop(columns=['original_index'],inplace=True)"
   ]
  },
  {
   "cell_type": "code",
   "execution_count": null,
   "id": "0e420fb0",
   "metadata": {},
   "outputs": [],
   "source": [
    "all_service_codes = pd.concat([X_train['SERVICE_ITEM_CODE'], X_test['SERVICE_ITEM_CODE'] ,X_val['SERVICE_ITEM_CODE']]).unique()\n",
    "all_global_codes = pd.concat([X_train['GLOBAL_NATIONAL_CODE'], X_test['GLOBAL_NATIONAL_CODE'],X_val['GLOBAL_NATIONAL_CODE']]).unique()\n",
    "\n",
    "\n",
    "le_service = preprocessing.LabelEncoder().fit(all_service_codes)\n",
    "le_global = preprocessing.LabelEncoder().fit(all_global_codes)\n",
    "\n",
    "\n",
    "# Now transform the columns in the training and test sets\n",
    "X_train['SERVICE_ITEM_CODE'] = le_service.transform(X_train['SERVICE_ITEM_CODE'])\n",
    "X_train['GLOBAL_NATIONAL_CODE'] = le_global.transform(X_train['GLOBAL_NATIONAL_CODE'])\n",
    "\n",
    "\n",
    "label_encoders = {}\n",
    "label_encoders['SERVICE_ITEM_CODE'] = le_service\n",
    "label_encoders['GLOBAL_NATIONAL_CODE'] = le_global\n",
    "\n",
    "\n",
    "X_val['SERVICE_ITEM_CODE'] = le_service.transform(X_val['SERVICE_ITEM_CODE'])\n",
    "X_val['GLOBAL_NATIONAL_CODE'] = le_global.transform(X_val['GLOBAL_NATIONAL_CODE'])\n",
    "\n",
    "\n",
    "X_test['SERVICE_ITEM_CODE'] = le_service.transform(X_test['SERVICE_ITEM_CODE'])\n",
    "X_test['GLOBAL_NATIONAL_CODE'] = le_global.transform(X_test['GLOBAL_NATIONAL_CODE'])"
   ]
  },
  {
   "cell_type": "code",
   "execution_count": null,
   "id": "8c45f8a3",
   "metadata": {},
   "outputs": [],
   "source": [
    "joblib.dump(label_encoders, 'labelEncoderList.pkl')"
   ]
  },
  {
   "cell_type": "code",
   "execution_count": null,
   "id": "afbb3bcc",
   "metadata": {},
   "outputs": [],
   "source": [
    "lambdas = {}\n",
    "for c in colsJeo:\n",
    "    adjusted_column = X_train[c]\n",
    "    # Step 4: Apply log transformation\n",
    "    transformed_data, lambda_ = stats.yeojohnson((adjusted_column))\n",
    "    print(lambda_)\n",
    "    colName = c + '_yeo'\n",
    "    X_train[colName] = transformed_data\n",
    "    lambdas[c] = lambda_"
   ]
  },
  {
   "cell_type": "code",
   "execution_count": null,
   "id": "73514024",
   "metadata": {},
   "outputs": [],
   "source": [
    "joblib.dump(lambdas, 'lambdaYeojohnsonList.pkl')"
   ]
  },
  {
   "cell_type": "code",
   "execution_count": null,
   "id": "a2bbc11e",
   "metadata": {},
   "outputs": [],
   "source": [
    "X_val.columns"
   ]
  },
  {
   "cell_type": "code",
   "execution_count": null,
   "id": "e67cace1",
   "metadata": {},
   "outputs": [],
   "source": [
    "for column in colsJeo:\n",
    "    lambda_ = lambdas[column]\n",
    "    X_val[f'{column}_yeo'] = stats.yeojohnson(X_val[column].values, lmbda=lambda_)\n",
    "    X_test[f'{column}_yeo'] = stats.yeojohnson(X_test[column].values, lmbda=lambda_)"
   ]
  },
  {
   "cell_type": "code",
   "execution_count": null,
   "id": "919a3f12",
   "metadata": {},
   "outputs": [],
   "source": [
    "X_train.drop(columns=colsJeo,inplace=True)\n",
    "X_val.drop(columns=colsJeo,inplace=True)\n",
    "X_test.drop(columns=colsJeo,inplace=True)"
   ]
  },
  {
   "cell_type": "code",
   "execution_count": null,
   "id": "1f5c3287",
   "metadata": {},
   "outputs": [],
   "source": [
    "print(X_train.columns)\n",
    "print(X_val.columns)\n",
    "print(X_test.columns)"
   ]
  },
  {
   "cell_type": "code",
   "execution_count": null,
   "id": "4f3c85bf",
   "metadata": {},
   "outputs": [],
   "source": [
    "colsNum =  ['khadamat_moshavere_log', 'komak_jarah_log',\n",
    "       'daroo_otagh_amal_log', 'lavazem_amal_log', 'sonograghi_log',\n",
    "       'radiogeraghi_log', 'navarnegari_log', 'azmayeshat_log',\n",
    "       'asibshenasi_log', 'visit_log', 'othagh_amal_log', 'sayer_log',\n",
    "       'EXTRA_FIRST_INSURANCE_AMOUNT_PERCENT_log', 'bihoshi_yeo',\n",
    "       'hoteling_yeo', 'parastari_yeo', 'pezeshk_jarah_yeo']"
   ]
  },
  {
   "cell_type": "code",
   "execution_count": null,
   "id": "c80e2935",
   "metadata": {},
   "outputs": [],
   "source": [
    "from sklearn.preprocessing import  MinMaxScaler\n",
    "# scalers = {}\n",
    "# numerical_cols = colsNum\n",
    "# for col in numerical_cols:\n",
    "#     scaler = MinMaxScaler()\n",
    "#     X_train[col] = scaler.fit_transform(X_train[[col]])\n",
    "#     scalers[col] = scaler\n",
    "#     X_val[col] = scaler.transform(X_val[[col]])\n",
    "#     X_test[col] = scaler.transform(X_test[[col]])"
   ]
  },
  {
   "cell_type": "code",
   "execution_count": null,
   "id": "24c73308",
   "metadata": {},
   "outputs": [],
   "source": [
    "from sklearn.preprocessing import  StandardScaler\n",
    "scalersSt = {}\n",
    "numerical_cols = colsNum\n",
    "for colSt in numerical_cols:\n",
    "    scalerSt = StandardScaler()\n",
    "    X_train[colSt] = scalerSt.fit_transform(X_train[[colSt]])\n",
    "    scalersSt[colSt] = scalerSt\n",
    "    X_val[colSt] = scalerSt.transform(X_val[[colSt]])\n",
    "    X_test[colSt] = scalerSt.transform(X_test[[colSt]])"
   ]
  },
  {
   "cell_type": "code",
   "execution_count": null,
   "id": "cbdb2de4",
   "metadata": {},
   "outputs": [],
   "source": [
    "joblib.dump(scalersSt, 'standardScalerList.pkl')"
   ]
  },
  {
   "cell_type": "code",
   "execution_count": null,
   "id": "c228e4c2",
   "metadata": {},
   "outputs": [],
   "source": [
    "joblib.dump(colsJeo, 'columnNameYeojohnsonList.pkl')"
   ]
  },
  {
   "cell_type": "code",
   "execution_count": null,
   "id": "943e78ef",
   "metadata": {},
   "outputs": [],
   "source": [
    "import xgboost as xgb\n",
    "from sklearn.model_selection import RandomizedSearchCV\n",
    "from sklearn.metrics import classification_report, confusion_matrix, f1_score"
   ]
  },
  {
   "cell_type": "code",
   "execution_count": null,
   "id": "07a8bcf6",
   "metadata": {},
   "outputs": [],
   "source": [
    "model = xgb.XGBClassifier(scale_pos_weight=4, random_state=42,enable_categorical=True,learning_rate =0.12225543951389925 , max_depth = 9 , n_estimators = 497 , subsample = 0.9937955963643907  )"
   ]
  },
  {
   "cell_type": "code",
   "execution_count": null,
   "id": "82b179d3",
   "metadata": {},
   "outputs": [],
   "source": [
    "best_param =  {'learning_rate': 0.12225543951389925, 'max_depth': 9, 'n_estimators': 497, 'subsample': 0.9937955963643907}"
   ]
  },
  {
   "cell_type": "code",
   "execution_count": null,
   "id": "bd5d680a",
   "metadata": {},
   "outputs": [],
   "source": [
    "eval_set = [(X_val, y_val)]  # Use validation set for early stopping\n",
    "model.fit(X_train, y_train,eval_set= eval_set, early_stopping_rounds=50, verbose=False)"
   ]
  },
  {
   "cell_type": "code",
   "execution_count": null,
   "id": "a4f83fe5",
   "metadata": {},
   "outputs": [],
   "source": [
    "y_pred = model.predict(X_test)\n",
    "y_train_pred = model.predict(X_train)\n",
    "\n",
    "print(\"F1 Score on Test Data: \", f1_score(y_test, y_pred))\n",
    "print(\"Train Data Classification Report:\")\n",
    "print(classification_report(y_train, y_train_pred))\n",
    "print(\"Test Data Classification Report:\")\n",
    "print(classification_report(y_test, y_pred))\n",
    "print(\"Confusion Matrix:\")\n",
    "print(confusion_matrix(y_test, y_pred))"
   ]
  },
  {
   "cell_type": "code",
   "execution_count": null,
   "id": "2e876f36",
   "metadata": {},
   "outputs": [],
   "source": [
    "joblib.dump(model, 'modelXgboost.pkl')"
   ]
  },
  {
   "cell_type": "code",
   "execution_count": null,
   "id": "903f03d8",
   "metadata": {},
   "outputs": [],
   "source": [
    "joblib.dump(X_train.columns, 'columnNameList.pkl')"
   ]
  },
  {
   "cell_type": "code",
   "execution_count": null,
   "id": "491d8071",
   "metadata": {},
   "outputs": [],
   "source": [
    "y_pred_df = pd.DataFrame(y_pred, columns=['predictions'], index=X_test_indices.index)\n",
    "# Concatenate predictions with the backup DataFrame\n",
    "df_final_testt = pd.concat([dff, y_pred_df], axis=1)"
   ]
  },
  {
   "cell_type": "code",
   "execution_count": null,
   "id": "0470bc9c",
   "metadata": {},
   "outputs": [],
   "source": []
  },
  {
   "cell_type": "code",
   "execution_count": null,
   "id": "8a8d1650",
   "metadata": {},
   "outputs": [],
   "source": []
  },
  {
   "cell_type": "code",
   "execution_count": null,
   "id": "ebf4b09e",
   "metadata": {},
   "outputs": [],
   "source": []
  }
 ],
 "metadata": {
  "kernelspec": {
   "display_name": "Python 3 (ipykernel)",
   "language": "python",
   "name": "python3"
  },
  "language_info": {
   "codemirror_mode": {
    "name": "ipython",
    "version": 3
   },
   "file_extension": ".py",
   "mimetype": "text/x-python",
   "name": "python",
   "nbconvert_exporter": "python",
   "pygments_lexer": "ipython3",
   "version": "3.9.12"
  }
 },
 "nbformat": 4,
 "nbformat_minor": 5
}